{
 "cells": [
  {
   "cell_type": "code",
   "execution_count": 1,
   "metadata": {},
   "outputs": [],
   "source": [
    "# Import the dependencies.\n",
    "import pandas as pd\n",
    "import matplotlib.pyplot as plt\n",
    "import numpy as np\n",
    "# Use the citipy module to determine city based on latitude and longitude.\n",
    "#from citipy import citipy\n",
    "# Import the requests library.\n",
    "import requests\n",
    "# Import the API key.\n",
    "from config import weather_api_key\n",
    "from config import g_key\n",
    "import traceback\n",
    "import gmaps\n",
    "import gmaps.datasets\n",
    "from geopy.distance import geodesic"
   ]
  },
  {
   "cell_type": "code",
   "execution_count": 2,
   "metadata": {},
   "outputs": [],
   "source": [
    "#Helper function to convert the 3 element tuple to just lat,long tuple\n",
    "def convert_coord_to_latlng(coord):\n",
    "    return (coord[1],coord[2])"
   ]
  },
  {
   "cell_type": "code",
   "execution_count": 3,
   "metadata": {},
   "outputs": [],
   "source": [
    "#Read the CSV into a dataframe\n",
    "weather_df = pd.read_csv(\"analysis/WeatherPy_vacation.csv\") "
   ]
  },
  {
   "cell_type": "code",
   "execution_count": 4,
   "metadata": {},
   "outputs": [
    {
     "data": {
      "text/html": [
       "<div>\n",
       "<style scoped>\n",
       "    .dataframe tbody tr th:only-of-type {\n",
       "        vertical-align: middle;\n",
       "    }\n",
       "\n",
       "    .dataframe tbody tr th {\n",
       "        vertical-align: top;\n",
       "    }\n",
       "\n",
       "    .dataframe thead th {\n",
       "        text-align: right;\n",
       "    }\n",
       "</style>\n",
       "<table border=\"1\" class=\"dataframe\">\n",
       "  <thead>\n",
       "    <tr style=\"text-align: right;\">\n",
       "      <th></th>\n",
       "      <th>Unnamed: 0</th>\n",
       "      <th>City</th>\n",
       "      <th>Country</th>\n",
       "      <th>Max Temp</th>\n",
       "      <th>Current Description</th>\n",
       "      <th>Lat</th>\n",
       "      <th>Lng</th>\n",
       "      <th>Hotel Name</th>\n",
       "    </tr>\n",
       "  </thead>\n",
       "  <tbody>\n",
       "    <tr>\n",
       "      <th>0</th>\n",
       "      <td>3</td>\n",
       "      <td>rikitea</td>\n",
       "      <td>pf</td>\n",
       "      <td>76.80</td>\n",
       "      <td>broken clouds</td>\n",
       "      <td>-23.12</td>\n",
       "      <td>-134.97</td>\n",
       "      <td>NaN</td>\n",
       "    </tr>\n",
       "    <tr>\n",
       "      <th>1</th>\n",
       "      <td>5</td>\n",
       "      <td>mount gambier</td>\n",
       "      <td>au</td>\n",
       "      <td>60.80</td>\n",
       "      <td>broken clouds</td>\n",
       "      <td>-37.83</td>\n",
       "      <td>140.77</td>\n",
       "      <td>NaN</td>\n",
       "    </tr>\n",
       "    <tr>\n",
       "      <th>2</th>\n",
       "      <td>8</td>\n",
       "      <td>hermanus</td>\n",
       "      <td>za</td>\n",
       "      <td>61.00</td>\n",
       "      <td>few clouds</td>\n",
       "      <td>-34.42</td>\n",
       "      <td>19.23</td>\n",
       "      <td>NaN</td>\n",
       "    </tr>\n",
       "    <tr>\n",
       "      <th>3</th>\n",
       "      <td>13</td>\n",
       "      <td>airai</td>\n",
       "      <td>pw</td>\n",
       "      <td>72.64</td>\n",
       "      <td>scattered clouds</td>\n",
       "      <td>-8.93</td>\n",
       "      <td>125.41</td>\n",
       "      <td>NaN</td>\n",
       "    </tr>\n",
       "    <tr>\n",
       "      <th>4</th>\n",
       "      <td>16</td>\n",
       "      <td>nelson bay</td>\n",
       "      <td>au</td>\n",
       "      <td>71.60</td>\n",
       "      <td>overcast clouds</td>\n",
       "      <td>-32.72</td>\n",
       "      <td>152.15</td>\n",
       "      <td>NaN</td>\n",
       "    </tr>\n",
       "  </tbody>\n",
       "</table>\n",
       "</div>"
      ],
      "text/plain": [
       "   Unnamed: 0           City Country  Max Temp Current Description    Lat  \\\n",
       "0           3        rikitea      pf     76.80       broken clouds -23.12   \n",
       "1           5  mount gambier      au     60.80       broken clouds -37.83   \n",
       "2           8       hermanus      za     61.00          few clouds -34.42   \n",
       "3          13          airai      pw     72.64    scattered clouds  -8.93   \n",
       "4          16     nelson bay      au     71.60     overcast clouds -32.72   \n",
       "\n",
       "      Lng  Hotel Name  \n",
       "0 -134.97         NaN  \n",
       "1  140.77         NaN  \n",
       "2   19.23         NaN  \n",
       "3  125.41         NaN  \n",
       "4  152.15         NaN  "
      ]
     },
     "execution_count": 4,
     "metadata": {},
     "output_type": "execute_result"
    }
   ],
   "source": [
    "weather_df.head()"
   ]
  },
  {
   "cell_type": "code",
   "execution_count": 5,
   "metadata": {},
   "outputs": [],
   "source": [
    "#Configure GMaps\n",
    "gmaps.configure(api_key=g_key)\n",
    "#Dictionary to capture each country name, along with a list of cities that are less than 1000 miles apart.\n",
    "country_names= {}\n",
    "coords=[]\n",
    "#ITerate through each row\n",
    "for index, row in weather_df.iterrows():\n",
    "    city = row[\"City\"]\n",
    "    country = row[\"Country\"]\n",
    "    lat_long = (city,row[\"Lat\"],row[\"Lng\"],row[\"Current Description\"],row[\"Hotel Name\"],country,row[\"Max Temp\"])\n",
    "    \n",
    "    #Initialize the country in the dictionary initially\n",
    "    if country not in country_names:\n",
    "        country_names[country]=[]\n",
    "    if len(country_names[country]) > 0:\n",
    "        #Check to see if we have already included this city\n",
    "        has_city = False\n",
    "        for c in country_names[country]:\n",
    "            if city == c[0]:\n",
    "                #Duplicate city so skip\n",
    "                has_city = True\n",
    "                break\n",
    "        if has_city:\n",
    "            #If that city already exists then continue main loop\n",
    "            continue\n",
    "        #Get the distance from the last coordinate pair to this pair\n",
    "        prev_lat_long = (country_names[country][-1][1],country_names[country][-1][2])\n",
    "        new_lat_long = (lat_long[1],lat_long[2])\n",
    "        #User geodeslc to calculate the distance between 2 pairs of lat,long\n",
    "        distance = geodesic(new_lat_long,prev_lat_long).miles\n",
    "        #Set max driving distance between cities to 1000 miles\n",
    "        if distance<1000:\n",
    "            country_names[country].append(lat_long) \n",
    "            #Once we have obtained 4 cities that match the criteria, break out of the loop\n",
    "            if len(country_names[country]) == 4:\n",
    "                coords=country_names[country]\n",
    "                break\n",
    "    else:\n",
    "        #As this is the first time adding the country into the dictionary, add that lat_long.\n",
    "        country_names[country].append(lat_long)"
   ]
  },
  {
   "cell_type": "code",
   "execution_count": 6,
   "metadata": {},
   "outputs": [],
   "source": [
    "def convert_coord_to_dict(coord):\n",
    "    return {\n",
    "        \"Hotel Name\": coord[4],\n",
    "        \"City\": coord[0],\n",
    "        \"Country\": coord[5],\n",
    "        \"Current Description\": coord[3],\n",
    "        \"Max Temp\": coord[6]\n",
    "    }"
   ]
  },
  {
   "cell_type": "code",
   "execution_count": 7,
   "metadata": {
    "scrolled": true
   },
   "outputs": [
    {
     "data": {
      "application/vnd.jupyter.widget-view+json": {
       "model_id": "15b50a0fd53240abaf31d19acdeacda7",
       "version_major": 2,
       "version_minor": 0
      },
      "text/plain": [
       "Figure(layout=FigureLayout(height='420px'))"
      ]
     },
     "metadata": {},
     "output_type": "display_data"
    }
   ],
   "source": [
    "#Ensure the above loop was able to calculate at least 4 valid coordinate pairs\n",
    "if len(coords) == 4:\n",
    "    #Sort the coordinates list of tuples by latitude \n",
    "    coords.sort(key=lambda x:x[1])\n",
    "    start_coord = convert_coord_to_latlng(coords[0])\n",
    "    end_coord = convert_coord_to_latlng(coords[3])\n",
    "    wp1 = convert_coord_to_latlng(coords[1])\n",
    "    wp2 = convert_coord_to_latlng(coords[2])\n",
    "    \n",
    "    #Cetner the figure around one of the coordinates and zoom in\n",
    "    fig = gmaps.figure(center=wp1, zoom_level=5)\n",
    "    clean_coords = [start_coord,wp1,wp2,end_coord]\n",
    "    #Set the directions mode to Driving directions.\n",
    "    travel_mode_str='DRIVING'\n",
    "    #Get the driving directions layer from the Directions API\n",
    "    gmaps_dirs = gmaps.directions_layer(start_coord, end_coord, waypoints=[wp1,wp2],travel_mode=travel_mode_str,stroke_color='red',stroke_weight=3.0,stroke_opacity=1.0,show_markers=False)\n",
    "    fig.add_layer(gmaps_dirs)\n",
    "    \n",
    "    #Set HTML template for the popup on each marker on GMaps\n",
    "    info_box_template = \"\"\"\n",
    "    <dl>\n",
    "    <dt>Hotel Name</dt><dd>{Hotel Name}</dd>\n",
    "    <dt>City</dt><dd>{City}</dd>\n",
    "    <dt>Country</dt><dd>{Country}</dd>\n",
    "    <dt>Current Descritpion</dt><dd>Description: {Current Description} with a max temp: {Max Temp} °F</dd>\n",
    "    </dl>\n",
    "    \"\"\"\n",
    "    #Convert into a dictionary so the HTML can parse it.\n",
    "    c_dicts=[]\n",
    "    for c in coords:\n",
    "        c_dict = convert_coord_to_dict(c)\n",
    "        c_dicts.append(c_dict)\n",
    "    # Store the DataFrame Row.\n",
    "    hotel_info = [info_box_template.format(**c) for c in c_dicts]\n",
    "    marker_layer = gmaps.marker_layer(clean_coords, info_box_content=hotel_info)\n",
    "    #Apply the layers on the GMap\n",
    "    fig.add_layer(marker_layer)\n",
    "    \n",
    "fig"
   ]
  },
  {
   "cell_type": "code",
   "execution_count": null,
   "metadata": {},
   "outputs": [],
   "source": []
  }
 ],
 "metadata": {
  "kernelspec": {
   "display_name": "Python 3.7.7 64-bit ('PythonData': conda)",
   "language": "python",
   "name": "python37764bitpythondataconda1497166868d24ba68de260e0cf754157"
  },
  "language_info": {
   "codemirror_mode": {
    "name": "ipython",
    "version": 3
   },
   "file_extension": ".py",
   "mimetype": "text/x-python",
   "name": "python",
   "nbconvert_exporter": "python",
   "pygments_lexer": "ipython3",
   "version": "3.7.7"
  }
 },
 "nbformat": 4,
 "nbformat_minor": 4
}
