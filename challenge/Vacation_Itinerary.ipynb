{
 "cells": [
  {
   "cell_type": "code",
   "execution_count": 1,
   "metadata": {},
   "outputs": [],
   "source": [
    "# Import the dependencies.\n",
    "import pandas as pd\n",
    "import matplotlib.pyplot as plt\n",
    "import numpy as np\n",
    "# Use the citipy module to determine city based on latitude and longitude.\n",
    "#from citipy import citipy\n",
    "# Import the requests library.\n",
    "import requests\n",
    "# Import the API key.\n",
    "from config import weather_api_key\n",
    "from config import g_key\n",
    "import traceback\n",
    "import gmaps\n",
    "import gmaps.datasets\n",
    "from geopy.distance import geodesic"
   ]
  },
  {
   "cell_type": "code",
   "execution_count": 2,
   "metadata": {},
   "outputs": [],
   "source": [
    "#Helper function to convert the 3 element tuple to just lat,long tuple\n",
    "def convert_coord_to_latlng(coord):\n",
    "    return (coord[1],coord[2])"
   ]
  },
  {
   "cell_type": "code",
   "execution_count": 3,
   "metadata": {},
   "outputs": [],
   "source": [
    "#Read the CSV into a dataframe\n",
    "weather_df = pd.read_csv(\"analysis/WeatherPy_vacation.csv\") "
   ]
  },
  {
   "cell_type": "code",
   "execution_count": 4,
   "metadata": {},
   "outputs": [
    {
     "data": {
      "text/html": [
       "<div>\n",
       "<style scoped>\n",
       "    .dataframe tbody tr th:only-of-type {\n",
       "        vertical-align: middle;\n",
       "    }\n",
       "\n",
       "    .dataframe tbody tr th {\n",
       "        vertical-align: top;\n",
       "    }\n",
       "\n",
       "    .dataframe thead th {\n",
       "        text-align: right;\n",
       "    }\n",
       "</style>\n",
       "<table border=\"1\" class=\"dataframe\">\n",
       "  <thead>\n",
       "    <tr style=\"text-align: right;\">\n",
       "      <th></th>\n",
       "      <th>Unnamed: 0</th>\n",
       "      <th>City</th>\n",
       "      <th>Country</th>\n",
       "      <th>Max Temp</th>\n",
       "      <th>Current Description</th>\n",
       "      <th>Lat</th>\n",
       "      <th>Lng</th>\n",
       "      <th>Hotel Name</th>\n",
       "    </tr>\n",
       "  </thead>\n",
       "  <tbody>\n",
       "    <tr>\n",
       "      <th>0</th>\n",
       "      <td>2</td>\n",
       "      <td>isangel</td>\n",
       "      <td>vu</td>\n",
       "      <td>78.89</td>\n",
       "      <td>light rain</td>\n",
       "      <td>-19.55</td>\n",
       "      <td>169.27</td>\n",
       "      <td>Volcano Sea View Tree House</td>\n",
       "    </tr>\n",
       "    <tr>\n",
       "      <th>1</th>\n",
       "      <td>28</td>\n",
       "      <td>bumba</td>\n",
       "      <td>cd</td>\n",
       "      <td>74.26</td>\n",
       "      <td>light rain</td>\n",
       "      <td>2.18</td>\n",
       "      <td>22.47</td>\n",
       "      <td>Hôtel Cape Town</td>\n",
       "    </tr>\n",
       "    <tr>\n",
       "      <th>2</th>\n",
       "      <td>40</td>\n",
       "      <td>bontang</td>\n",
       "      <td>id</td>\n",
       "      <td>75.96</td>\n",
       "      <td>light rain</td>\n",
       "      <td>0.13</td>\n",
       "      <td>117.50</td>\n",
       "      <td>Okra Leaf Guest House Syariah</td>\n",
       "    </tr>\n",
       "    <tr>\n",
       "      <th>3</th>\n",
       "      <td>103</td>\n",
       "      <td>port lincoln</td>\n",
       "      <td>au</td>\n",
       "      <td>63.25</td>\n",
       "      <td>light rain</td>\n",
       "      <td>-34.73</td>\n",
       "      <td>135.87</td>\n",
       "      <td>Port Lincoln Hotel</td>\n",
       "    </tr>\n",
       "    <tr>\n",
       "      <th>4</th>\n",
       "      <td>109</td>\n",
       "      <td>vao</td>\n",
       "      <td>nc</td>\n",
       "      <td>76.24</td>\n",
       "      <td>light rain</td>\n",
       "      <td>-22.67</td>\n",
       "      <td>167.48</td>\n",
       "      <td>Hotel Kou-Bugny</td>\n",
       "    </tr>\n",
       "  </tbody>\n",
       "</table>\n",
       "</div>"
      ],
      "text/plain": [
       "   Unnamed: 0          City Country  Max Temp Current Description    Lat  \\\n",
       "0           2       isangel      vu     78.89          light rain -19.55   \n",
       "1          28         bumba      cd     74.26          light rain   2.18   \n",
       "2          40       bontang      id     75.96          light rain   0.13   \n",
       "3         103  port lincoln      au     63.25          light rain -34.73   \n",
       "4         109           vao      nc     76.24          light rain -22.67   \n",
       "\n",
       "      Lng                     Hotel Name  \n",
       "0  169.27    Volcano Sea View Tree House  \n",
       "1   22.47                Hôtel Cape Town  \n",
       "2  117.50  Okra Leaf Guest House Syariah  \n",
       "3  135.87             Port Lincoln Hotel  \n",
       "4  167.48                Hotel Kou-Bugny  "
      ]
     },
     "execution_count": 4,
     "metadata": {},
     "output_type": "execute_result"
    }
   ],
   "source": [
    "weather_df.head()"
   ]
  },
  {
   "cell_type": "code",
   "execution_count": 5,
   "metadata": {},
   "outputs": [],
   "source": [
    "#Configure GMaps\n",
    "gmaps.configure(api_key=g_key)\n",
    "#Dictionary to capture each country name, along with a list of cities that are less than 1000 miles apart.\n",
    "country_names= {}\n",
    "coords=[]\n",
    "#ITerate through each row\n",
    "for index, row in weather_df.iterrows():\n",
    "    city = row[\"City\"]\n",
    "    country = row[\"Country\"]\n",
    "    lat_long = (city,row[\"Lat\"],row[\"Lng\"],row[\"Current Description\"],row[\"Hotel Name\"],country,row[\"Max Temp\"])\n",
    "    \n",
    "    #Initialize the country in the dictionary initially\n",
    "    if country not in country_names:\n",
    "        country_names[country]=[]\n",
    "    if len(country_names[country]) > 0:\n",
    "        #Check to see if we have already included this city\n",
    "        has_city = False\n",
    "        for c in country_names[country]:\n",
    "            if city == c[0]:\n",
    "                #Duplicate city so skip\n",
    "                has_city = True\n",
    "                break\n",
    "        if has_city:\n",
    "            #If that city already exists then continue main loop\n",
    "            continue\n",
    "        #Get the distance from the last coordinate pair to this pair\n",
    "        prev_lat_long = (country_names[country][-1][1],country_names[country][-1][2])\n",
    "        new_lat_long = (lat_long[1],lat_long[2])\n",
    "        #User geodeslc to calculate the distance between 2 pairs of lat,long\n",
    "        distance = geodesic(new_lat_long,prev_lat_long).miles\n",
    "        #Set max driving distance between cities to 1000 miles\n",
    "        if distance<1000:\n",
    "            country_names[country].append(lat_long) \n",
    "            #Once we have obtained 4 cities that match the criteria, break out of the loop\n",
    "            if len(country_names[country]) == 4:\n",
    "                coords=country_names[country]\n",
    "                break\n",
    "    else:\n",
    "        #As this is the first time adding the country into the dictionary, add that lat_long.\n",
    "        country_names[country].append(lat_long)"
   ]
  },
  {
   "cell_type": "code",
   "execution_count": 6,
   "metadata": {},
   "outputs": [],
   "source": [
    "def convert_coord_to_dict(coord):\n",
    "    return {\n",
    "        \"Hotel Name\": coord[4],\n",
    "        \"City\": coord[0],\n",
    "        \"Country\": coord[5],\n",
    "        \"Current Description\": coord[3],\n",
    "        \"Max Temp\": coord[6]\n",
    "    }"
   ]
  },
  {
   "cell_type": "code",
   "execution_count": 10,
   "metadata": {
    "scrolled": true
   },
   "outputs": [
    {
     "data": {
      "application/vnd.jupyter.widget-view+json": {
       "model_id": "fa77c78401d9479898680ff08de7a04f",
       "version_major": 2,
       "version_minor": 0
      },
      "text/plain": [
       "Figure(layout=FigureLayout(height='420px'))"
      ]
     },
     "metadata": {},
     "output_type": "display_data"
    }
   ],
   "source": [
    "#Ensure the above loop was able to calculate at least 4 valid coordinate pairs\n",
    "if len(coords) == 4:\n",
    "    #Sort the coordinates list of tuples by latitude \n",
    "    coords.sort(key=lambda x:x[1])\n",
    "    start_coord = convert_coord_to_latlng(coords[0])\n",
    "    end_coord = convert_coord_to_latlng(coords[3])\n",
    "    wp1 = convert_coord_to_latlng(coords[1])\n",
    "    wp2 = convert_coord_to_latlng(coords[2])\n",
    "    \n",
    "    #Cetner the figure around one of the coordinates and zoom in\n",
    "    fig = gmaps.figure(center=wp1, zoom_level=5)\n",
    "    clean_coords = [start_coord,wp1,wp2,end_coord]\n",
    "    #Set the directions mode to Driving directions.\n",
    "    travel_mode_str='DRIVING'\n",
    "    #Get the driving directions layer from the Directions API\n",
    "    gmaps_dirs = gmaps.directions_layer(start_coord, end_coord, waypoints=[wp1,wp2],travel_mode=travel_mode_str,stroke_color='red',stroke_weight=3.0,stroke_opacity=1.0,show_markers=False)\n",
    "    fig.add_layer(gmaps_dirs)\n",
    "    \n",
    "    #Set HTML template for the popup on each marker on GMaps\n",
    "    info_box_template = \"\"\"\n",
    "    <dl>\n",
    "    <dt>Hotel Name</dt><dd>{Hotel Name}</dd>\n",
    "    <dt>City</dt><dd>{City}</dd>\n",
    "    <dt>Country</dt><dd>{Country}</dd>\n",
    "    <dt>Current Descritpion</dt><dd>Description: {Current Description} with a max temp: {Max Temp} °F</dd>\n",
    "    </dl>\n",
    "    \"\"\"\n",
    "    #Convert into a dictionary so the HTML can parse it.\n",
    "    c_dicts=[]\n",
    "    for c in coords:\n",
    "        c_dict = convert_coord_to_dict(c)\n",
    "        c_dicts.append(c_dict)\n",
    "    # Store the DataFrame Row.\n",
    "    hotel_info = [info_box_template.format(**c) for c in c_dicts]\n",
    "    marker_layer = gmaps.marker_layer(clean_coords, info_box_content=hotel_info)\n",
    "    #Apply the layers on the GMap\n",
    "    fig.add_layer(marker_layer)\n",
    "    \n",
    "fig"
   ]
  },
  {
   "cell_type": "code",
   "execution_count": null,
   "metadata": {},
   "outputs": [],
   "source": []
  }
 ],
 "metadata": {
  "kernelspec": {
   "display_name": "Python 3.7.7 64-bit ('PythonData': conda)",
   "language": "python",
   "name": "python37764bitpythondataconda1497166868d24ba68de260e0cf754157"
  },
  "language_info": {
   "codemirror_mode": {
    "name": "ipython",
    "version": 3
   },
   "file_extension": ".py",
   "mimetype": "text/x-python",
   "name": "python",
   "nbconvert_exporter": "python",
   "pygments_lexer": "ipython3",
   "version": "3.7.7"
  }
 },
 "nbformat": 4,
 "nbformat_minor": 4
}
