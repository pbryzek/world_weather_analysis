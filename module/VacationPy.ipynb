{
 "cells": [
  {
   "cell_type": "code",
   "execution_count": 1,
   "metadata": {},
   "outputs": [],
   "source": [
    "# Import the dependencies.\n",
    "import pandas as pd\n",
    "import gmaps\n",
    "import requests\n",
    "# Import the API key.\n",
    "from config import g_key"
   ]
  },
  {
   "cell_type": "code",
   "execution_count": 2,
   "metadata": {},
   "outputs": [
    {
     "data": {
      "text/html": [
       "<div>\n",
       "<style scoped>\n",
       "    .dataframe tbody tr th:only-of-type {\n",
       "        vertical-align: middle;\n",
       "    }\n",
       "\n",
       "    .dataframe tbody tr th {\n",
       "        vertical-align: top;\n",
       "    }\n",
       "\n",
       "    .dataframe thead th {\n",
       "        text-align: right;\n",
       "    }\n",
       "</style>\n",
       "<table border=\"1\" class=\"dataframe\">\n",
       "  <thead>\n",
       "    <tr style=\"text-align: right;\">\n",
       "      <th></th>\n",
       "      <th>City_ID</th>\n",
       "      <th>City</th>\n",
       "      <th>Lat</th>\n",
       "      <th>Lng</th>\n",
       "      <th>Max Temp</th>\n",
       "      <th>Humidity</th>\n",
       "      <th>Cloudiness</th>\n",
       "      <th>Wind Speed</th>\n",
       "      <th>Country</th>\n",
       "      <th>Date</th>\n",
       "    </tr>\n",
       "  </thead>\n",
       "  <tbody>\n",
       "    <tr>\n",
       "      <th>0</th>\n",
       "      <td>0</td>\n",
       "      <td>Toucheng</td>\n",
       "      <td>24.86</td>\n",
       "      <td>121.82</td>\n",
       "      <td>68.00</td>\n",
       "      <td>99</td>\n",
       "      <td>6</td>\n",
       "      <td>11.21</td>\n",
       "      <td>TW</td>\n",
       "      <td>2020-04-17 19:25:49</td>\n",
       "    </tr>\n",
       "    <tr>\n",
       "      <th>1</th>\n",
       "      <td>1</td>\n",
       "      <td>Thompson</td>\n",
       "      <td>55.74</td>\n",
       "      <td>-97.86</td>\n",
       "      <td>41.00</td>\n",
       "      <td>44</td>\n",
       "      <td>90</td>\n",
       "      <td>13.87</td>\n",
       "      <td>CA</td>\n",
       "      <td>2020-04-17 19:22:03</td>\n",
       "    </tr>\n",
       "    <tr>\n",
       "      <th>2</th>\n",
       "      <td>2</td>\n",
       "      <td>Khatanga</td>\n",
       "      <td>71.97</td>\n",
       "      <td>102.50</td>\n",
       "      <td>7.25</td>\n",
       "      <td>90</td>\n",
       "      <td>0</td>\n",
       "      <td>13.06</td>\n",
       "      <td>RU</td>\n",
       "      <td>2020-04-17 19:25:50</td>\n",
       "    </tr>\n",
       "    <tr>\n",
       "      <th>3</th>\n",
       "      <td>3</td>\n",
       "      <td>Golden</td>\n",
       "      <td>39.76</td>\n",
       "      <td>-105.22</td>\n",
       "      <td>46.00</td>\n",
       "      <td>51</td>\n",
       "      <td>5</td>\n",
       "      <td>8.05</td>\n",
       "      <td>US</td>\n",
       "      <td>2020-04-17 19:25:26</td>\n",
       "    </tr>\n",
       "    <tr>\n",
       "      <th>4</th>\n",
       "      <td>4</td>\n",
       "      <td>Butaritari</td>\n",
       "      <td>3.07</td>\n",
       "      <td>172.79</td>\n",
       "      <td>82.40</td>\n",
       "      <td>80</td>\n",
       "      <td>89</td>\n",
       "      <td>15.90</td>\n",
       "      <td>KI</td>\n",
       "      <td>2020-04-17 19:25:51</td>\n",
       "    </tr>\n",
       "  </tbody>\n",
       "</table>\n",
       "</div>"
      ],
      "text/plain": [
       "   City_ID        City    Lat     Lng  Max Temp  Humidity  Cloudiness  \\\n",
       "0        0    Toucheng  24.86  121.82     68.00        99           6   \n",
       "1        1    Thompson  55.74  -97.86     41.00        44          90   \n",
       "2        2    Khatanga  71.97  102.50      7.25        90           0   \n",
       "3        3      Golden  39.76 -105.22     46.00        51           5   \n",
       "4        4  Butaritari   3.07  172.79     82.40        80          89   \n",
       "\n",
       "   Wind Speed Country                 Date  \n",
       "0       11.21      TW  2020-04-17 19:25:49  \n",
       "1       13.87      CA  2020-04-17 19:22:03  \n",
       "2       13.06      RU  2020-04-17 19:25:50  \n",
       "3        8.05      US  2020-04-17 19:25:26  \n",
       "4       15.90      KI  2020-04-17 19:25:51  "
      ]
     },
     "execution_count": 2,
     "metadata": {},
     "output_type": "execute_result"
    }
   ],
   "source": [
    "# Store the CSV you saved created in part one into a DataFrame.\n",
    "city_data_df = pd.read_csv(\"weather_data/cities.csv\")\n",
    "city_data_df.head()"
   ]
  },
  {
   "cell_type": "code",
   "execution_count": 3,
   "metadata": {},
   "outputs": [],
   "source": [
    "# Configure gmaps to use your Google API key.\n",
    "gmaps.configure(api_key=g_key)"
   ]
  },
  {
   "cell_type": "code",
   "execution_count": 4,
   "metadata": {},
   "outputs": [],
   "source": [
    "# Get the maximum temperature.\n",
    "max_temp = city_data_df[\"Max Temp\"]\n",
    "temps = []\n",
    "for temp in max_temp:\n",
    "    temps.append(max(temp, 0))"
   ]
  },
  {
   "cell_type": "code",
   "execution_count": 5,
   "metadata": {},
   "outputs": [
    {
     "data": {
      "application/vnd.jupyter.widget-view+json": {
       "model_id": "df1cf14f491a4227bc0808a65286120d",
       "version_major": 2,
       "version_minor": 0
      },
      "text/plain": [
       "Figure(layout=FigureLayout(height='420px'))"
      ]
     },
     "metadata": {},
     "output_type": "display_data"
    }
   ],
   "source": [
    "# Heatmap of temperature\n",
    "# Get the latitude and longitude.\n",
    "locations = city_data_df[[\"Lat\", \"Lng\"]]\n",
    "# Get the maximum temperature.\n",
    "max_temp = city_data_df[\"Max Temp\"]\n",
    "# Assign the figure variable.\n",
    "fig = gmaps.figure()\n",
    "# Assign the heatmap variable.\n",
    "heat_layer = gmaps.heatmap_layer(locations, weights=temps)\n",
    "# Add the heatmap layer.\n",
    "fig.add_layer(heat_layer)\n",
    "# Call the figure to plot the data.\n",
    "fig"
   ]
  },
  {
   "cell_type": "code",
   "execution_count": 6,
   "metadata": {},
   "outputs": [],
   "source": [
    "heat_layer = gmaps.heatmap_layer(locations, weights=[max(temp, 0) for temp in max_temp])"
   ]
  },
  {
   "cell_type": "code",
   "execution_count": 7,
   "metadata": {},
   "outputs": [],
   "source": [
    "fig = gmaps.figure(center=(30.0, 31.0), zoom_level=1.5)"
   ]
  },
  {
   "cell_type": "code",
   "execution_count": 8,
   "metadata": {
    "scrolled": true
   },
   "outputs": [
    {
     "data": {
      "application/vnd.jupyter.widget-view+json": {
       "model_id": "44701d9ae81f45989b0b090c7f9d4283",
       "version_major": 2,
       "version_minor": 0
      },
      "text/plain": [
       "Figure(layout=FigureLayout(height='420px'))"
      ]
     },
     "metadata": {},
     "output_type": "display_data"
    }
   ],
   "source": [
    "heat_layer = gmaps.heatmap_layer(locations, weights=temps, dissipating=False, max_intensity=300, point_radius=4)\n",
    "fig.add_layer(heat_layer)\n",
    "# Call the figure to plot the data.\n",
    "fig"
   ]
  },
  {
   "cell_type": "code",
   "execution_count": 9,
   "metadata": {},
   "outputs": [
    {
     "data": {
      "application/vnd.jupyter.widget-view+json": {
       "model_id": "76ebbf396a0f464b97571c34cd36a7ed",
       "version_major": 2,
       "version_minor": 0
      },
      "text/plain": [
       "Figure(layout=FigureLayout(height='420px'))"
      ]
     },
     "metadata": {},
     "output_type": "display_data"
    }
   ],
   "source": [
    "# Heatmap of percent humidity\n",
    "locations = city_data_df[[\"Lat\", \"Lng\"]]\n",
    "humidity = city_data_df[\"Humidity\"]\n",
    "fig = gmaps.figure(center=(30.0, 31.0), zoom_level=1.5)\n",
    "heat_layer = gmaps.heatmap_layer(locations, weights=humidity, dissipating=False, max_intensity=300, point_radius=4)\n",
    "\n",
    "fig.add_layer(heat_layer)\n",
    "# Call the figure to plot the data.\n",
    "fig"
   ]
  },
  {
   "cell_type": "code",
   "execution_count": 10,
   "metadata": {},
   "outputs": [
    {
     "data": {
      "application/vnd.jupyter.widget-view+json": {
       "model_id": "ee38ee9b57954281bceeff57b65067d6",
       "version_major": 2,
       "version_minor": 0
      },
      "text/plain": [
       "Figure(layout=FigureLayout(height='420px'))"
      ]
     },
     "metadata": {},
     "output_type": "display_data"
    }
   ],
   "source": [
    "# Heatmap of percent cloudiness\n",
    "locations = city_data_df[[\"Lat\", \"Lng\"]]\n",
    "clouds = city_data_df[\"Cloudiness\"]\n",
    "fig = gmaps.figure(center=(30.0, 31.0), zoom_level=1.5)\n",
    "heat_layer = gmaps.heatmap_layer(locations, weights=clouds, dissipating=False, max_intensity=300, point_radius=4)\n",
    "\n",
    "fig.add_layer(heat_layer)\n",
    "# Call the figure to plot the data.\n",
    "fig"
   ]
  },
  {
   "cell_type": "code",
   "execution_count": 11,
   "metadata": {
    "scrolled": true
   },
   "outputs": [
    {
     "data": {
      "application/vnd.jupyter.widget-view+json": {
       "model_id": "9919ae5d14c64ee6b46d2c7830bfeb9d",
       "version_major": 2,
       "version_minor": 0
      },
      "text/plain": [
       "Figure(layout=FigureLayout(height='420px'))"
      ]
     },
     "metadata": {},
     "output_type": "display_data"
    }
   ],
   "source": [
    "# Heatmap of percent cloudiness\n",
    "locations = city_data_df[[\"Lat\", \"Lng\"]]\n",
    "wind = city_data_df[\"Wind Speed\"]\n",
    "fig = gmaps.figure(center=(30.0, 31.0), zoom_level=1.5)\n",
    "heat_layer = gmaps.heatmap_layer(locations, weights=wind, dissipating=False, max_intensity=300, point_radius=4)\n",
    "\n",
    "fig.add_layer(heat_layer)\n",
    "# Call the figure to plot the data.\n",
    "fig"
   ]
  },
  {
   "cell_type": "code",
   "execution_count": 12,
   "metadata": {},
   "outputs": [
    {
     "name": "stdout",
     "output_type": "stream",
     "text": [
      "What is the minimum temperature you would like for your trip? 20\n",
      "What is the maximum temperature you would like for your trip? 60\n"
     ]
    }
   ],
   "source": [
    "# Ask the customer to add a minimum and maximum temperature value.\n",
    "min_temp = float(input(\"What is the minimum temperature you would like for your trip? \"))\n",
    "max_temp = float(input(\"What is the maximum temperature you would like for your trip? \"))"
   ]
  },
  {
   "cell_type": "code",
   "execution_count": 13,
   "metadata": {},
   "outputs": [
    {
     "data": {
      "text/html": [
       "<div>\n",
       "<style scoped>\n",
       "    .dataframe tbody tr th:only-of-type {\n",
       "        vertical-align: middle;\n",
       "    }\n",
       "\n",
       "    .dataframe tbody tr th {\n",
       "        vertical-align: top;\n",
       "    }\n",
       "\n",
       "    .dataframe thead th {\n",
       "        text-align: right;\n",
       "    }\n",
       "</style>\n",
       "<table border=\"1\" class=\"dataframe\">\n",
       "  <thead>\n",
       "    <tr style=\"text-align: right;\">\n",
       "      <th></th>\n",
       "      <th>City_ID</th>\n",
       "      <th>City</th>\n",
       "      <th>Lat</th>\n",
       "      <th>Lng</th>\n",
       "      <th>Max Temp</th>\n",
       "      <th>Humidity</th>\n",
       "      <th>Cloudiness</th>\n",
       "      <th>Wind Speed</th>\n",
       "      <th>Country</th>\n",
       "      <th>Date</th>\n",
       "    </tr>\n",
       "  </thead>\n",
       "  <tbody>\n",
       "    <tr>\n",
       "      <th>1</th>\n",
       "      <td>1</td>\n",
       "      <td>Thompson</td>\n",
       "      <td>55.74</td>\n",
       "      <td>-97.86</td>\n",
       "      <td>41.00</td>\n",
       "      <td>44</td>\n",
       "      <td>90</td>\n",
       "      <td>13.87</td>\n",
       "      <td>CA</td>\n",
       "      <td>2020-04-17 19:22:03</td>\n",
       "    </tr>\n",
       "    <tr>\n",
       "      <th>3</th>\n",
       "      <td>3</td>\n",
       "      <td>Golden</td>\n",
       "      <td>39.76</td>\n",
       "      <td>-105.22</td>\n",
       "      <td>46.00</td>\n",
       "      <td>51</td>\n",
       "      <td>5</td>\n",
       "      <td>8.05</td>\n",
       "      <td>US</td>\n",
       "      <td>2020-04-17 19:25:26</td>\n",
       "    </tr>\n",
       "    <tr>\n",
       "      <th>5</th>\n",
       "      <td>5</td>\n",
       "      <td>Mataura</td>\n",
       "      <td>-46.19</td>\n",
       "      <td>168.86</td>\n",
       "      <td>50.00</td>\n",
       "      <td>91</td>\n",
       "      <td>100</td>\n",
       "      <td>7.00</td>\n",
       "      <td>NZ</td>\n",
       "      <td>2020-04-17 19:25:49</td>\n",
       "    </tr>\n",
       "    <tr>\n",
       "      <th>6</th>\n",
       "      <td>6</td>\n",
       "      <td>Hammerfest</td>\n",
       "      <td>70.66</td>\n",
       "      <td>23.68</td>\n",
       "      <td>37.40</td>\n",
       "      <td>84</td>\n",
       "      <td>75</td>\n",
       "      <td>29.97</td>\n",
       "      <td>NO</td>\n",
       "      <td>2020-04-17 19:25:51</td>\n",
       "    </tr>\n",
       "    <tr>\n",
       "      <th>10</th>\n",
       "      <td>10</td>\n",
       "      <td>Port Lincoln</td>\n",
       "      <td>-34.73</td>\n",
       "      <td>135.87</td>\n",
       "      <td>59.67</td>\n",
       "      <td>69</td>\n",
       "      <td>40</td>\n",
       "      <td>5.84</td>\n",
       "      <td>AU</td>\n",
       "      <td>2020-04-17 19:25:52</td>\n",
       "    </tr>\n",
       "    <tr>\n",
       "      <th>12</th>\n",
       "      <td>12</td>\n",
       "      <td>Linjiang</td>\n",
       "      <td>41.81</td>\n",
       "      <td>126.91</td>\n",
       "      <td>45.00</td>\n",
       "      <td>69</td>\n",
       "      <td>96</td>\n",
       "      <td>1.01</td>\n",
       "      <td>CN</td>\n",
       "      <td>2020-04-17 19:25:52</td>\n",
       "    </tr>\n",
       "    <tr>\n",
       "      <th>13</th>\n",
       "      <td>13</td>\n",
       "      <td>Fort Nelson</td>\n",
       "      <td>58.81</td>\n",
       "      <td>-122.70</td>\n",
       "      <td>42.80</td>\n",
       "      <td>56</td>\n",
       "      <td>90</td>\n",
       "      <td>10.29</td>\n",
       "      <td>CA</td>\n",
       "      <td>2020-04-17 19:22:07</td>\n",
       "    </tr>\n",
       "    <tr>\n",
       "      <th>14</th>\n",
       "      <td>14</td>\n",
       "      <td>Kurkino</td>\n",
       "      <td>53.43</td>\n",
       "      <td>38.66</td>\n",
       "      <td>38.08</td>\n",
       "      <td>68</td>\n",
       "      <td>77</td>\n",
       "      <td>10.94</td>\n",
       "      <td>RU</td>\n",
       "      <td>2020-04-17 19:25:53</td>\n",
       "    </tr>\n",
       "    <tr>\n",
       "      <th>15</th>\n",
       "      <td>15</td>\n",
       "      <td>Albany</td>\n",
       "      <td>42.60</td>\n",
       "      <td>-73.97</td>\n",
       "      <td>50.00</td>\n",
       "      <td>23</td>\n",
       "      <td>90</td>\n",
       "      <td>3.00</td>\n",
       "      <td>US</td>\n",
       "      <td>2020-04-17 19:25:53</td>\n",
       "    </tr>\n",
       "    <tr>\n",
       "      <th>18</th>\n",
       "      <td>18</td>\n",
       "      <td>Nikolskoye</td>\n",
       "      <td>59.70</td>\n",
       "      <td>30.79</td>\n",
       "      <td>37.40</td>\n",
       "      <td>89</td>\n",
       "      <td>90</td>\n",
       "      <td>17.90</td>\n",
       "      <td>RU</td>\n",
       "      <td>2020-04-17 19:25:36</td>\n",
       "    </tr>\n",
       "  </tbody>\n",
       "</table>\n",
       "</div>"
      ],
      "text/plain": [
       "    City_ID          City    Lat     Lng  Max Temp  Humidity  Cloudiness  \\\n",
       "1         1      Thompson  55.74  -97.86     41.00        44          90   \n",
       "3         3        Golden  39.76 -105.22     46.00        51           5   \n",
       "5         5       Mataura -46.19  168.86     50.00        91         100   \n",
       "6         6    Hammerfest  70.66   23.68     37.40        84          75   \n",
       "10       10  Port Lincoln -34.73  135.87     59.67        69          40   \n",
       "12       12      Linjiang  41.81  126.91     45.00        69          96   \n",
       "13       13   Fort Nelson  58.81 -122.70     42.80        56          90   \n",
       "14       14       Kurkino  53.43   38.66     38.08        68          77   \n",
       "15       15        Albany  42.60  -73.97     50.00        23          90   \n",
       "18       18    Nikolskoye  59.70   30.79     37.40        89          90   \n",
       "\n",
       "    Wind Speed Country                 Date  \n",
       "1        13.87      CA  2020-04-17 19:22:03  \n",
       "3         8.05      US  2020-04-17 19:25:26  \n",
       "5         7.00      NZ  2020-04-17 19:25:49  \n",
       "6        29.97      NO  2020-04-17 19:25:51  \n",
       "10        5.84      AU  2020-04-17 19:25:52  \n",
       "12        1.01      CN  2020-04-17 19:25:52  \n",
       "13       10.29      CA  2020-04-17 19:22:07  \n",
       "14       10.94      RU  2020-04-17 19:25:53  \n",
       "15        3.00      US  2020-04-17 19:25:53  \n",
       "18       17.90      RU  2020-04-17 19:25:36  "
      ]
     },
     "execution_count": 13,
     "metadata": {},
     "output_type": "execute_result"
    }
   ],
   "source": [
    "# Filter the dataset to find the cities that fit the criteria.\n",
    "preferred_cities_df = city_data_df.loc[(city_data_df[\"Max Temp\"] <= max_temp) & (city_data_df[\"Max Temp\"] >= min_temp)]\n",
    "preferred_cities_df.head(10)"
   ]
  },
  {
   "cell_type": "code",
   "execution_count": 14,
   "metadata": {
    "scrolled": true
   },
   "outputs": [
    {
     "data": {
      "text/html": [
       "<div>\n",
       "<style scoped>\n",
       "    .dataframe tbody tr th:only-of-type {\n",
       "        vertical-align: middle;\n",
       "    }\n",
       "\n",
       "    .dataframe tbody tr th {\n",
       "        vertical-align: top;\n",
       "    }\n",
       "\n",
       "    .dataframe thead th {\n",
       "        text-align: right;\n",
       "    }\n",
       "</style>\n",
       "<table border=\"1\" class=\"dataframe\">\n",
       "  <thead>\n",
       "    <tr style=\"text-align: right;\">\n",
       "      <th></th>\n",
       "      <th>City</th>\n",
       "      <th>Country</th>\n",
       "      <th>Max Temp</th>\n",
       "      <th>Lat</th>\n",
       "      <th>Lng</th>\n",
       "      <th>Hotel Name</th>\n",
       "    </tr>\n",
       "  </thead>\n",
       "  <tbody>\n",
       "    <tr>\n",
       "      <th>1</th>\n",
       "      <td>Thompson</td>\n",
       "      <td>CA</td>\n",
       "      <td>41.00</td>\n",
       "      <td>55.74</td>\n",
       "      <td>-97.86</td>\n",
       "      <td></td>\n",
       "    </tr>\n",
       "    <tr>\n",
       "      <th>3</th>\n",
       "      <td>Golden</td>\n",
       "      <td>US</td>\n",
       "      <td>46.00</td>\n",
       "      <td>39.76</td>\n",
       "      <td>-105.22</td>\n",
       "      <td></td>\n",
       "    </tr>\n",
       "    <tr>\n",
       "      <th>5</th>\n",
       "      <td>Mataura</td>\n",
       "      <td>NZ</td>\n",
       "      <td>50.00</td>\n",
       "      <td>-46.19</td>\n",
       "      <td>168.86</td>\n",
       "      <td></td>\n",
       "    </tr>\n",
       "    <tr>\n",
       "      <th>6</th>\n",
       "      <td>Hammerfest</td>\n",
       "      <td>NO</td>\n",
       "      <td>37.40</td>\n",
       "      <td>70.66</td>\n",
       "      <td>23.68</td>\n",
       "      <td></td>\n",
       "    </tr>\n",
       "    <tr>\n",
       "      <th>10</th>\n",
       "      <td>Port Lincoln</td>\n",
       "      <td>AU</td>\n",
       "      <td>59.67</td>\n",
       "      <td>-34.73</td>\n",
       "      <td>135.87</td>\n",
       "      <td></td>\n",
       "    </tr>\n",
       "    <tr>\n",
       "      <th>12</th>\n",
       "      <td>Linjiang</td>\n",
       "      <td>CN</td>\n",
       "      <td>45.00</td>\n",
       "      <td>41.81</td>\n",
       "      <td>126.91</td>\n",
       "      <td></td>\n",
       "    </tr>\n",
       "    <tr>\n",
       "      <th>13</th>\n",
       "      <td>Fort Nelson</td>\n",
       "      <td>CA</td>\n",
       "      <td>42.80</td>\n",
       "      <td>58.81</td>\n",
       "      <td>-122.70</td>\n",
       "      <td></td>\n",
       "    </tr>\n",
       "    <tr>\n",
       "      <th>14</th>\n",
       "      <td>Kurkino</td>\n",
       "      <td>RU</td>\n",
       "      <td>38.08</td>\n",
       "      <td>53.43</td>\n",
       "      <td>38.66</td>\n",
       "      <td></td>\n",
       "    </tr>\n",
       "    <tr>\n",
       "      <th>15</th>\n",
       "      <td>Albany</td>\n",
       "      <td>US</td>\n",
       "      <td>50.00</td>\n",
       "      <td>42.60</td>\n",
       "      <td>-73.97</td>\n",
       "      <td></td>\n",
       "    </tr>\n",
       "    <tr>\n",
       "      <th>18</th>\n",
       "      <td>Nikolskoye</td>\n",
       "      <td>RU</td>\n",
       "      <td>37.40</td>\n",
       "      <td>59.70</td>\n",
       "      <td>30.79</td>\n",
       "      <td></td>\n",
       "    </tr>\n",
       "  </tbody>\n",
       "</table>\n",
       "</div>"
      ],
      "text/plain": [
       "            City Country  Max Temp    Lat     Lng Hotel Name\n",
       "1       Thompson      CA     41.00  55.74  -97.86           \n",
       "3         Golden      US     46.00  39.76 -105.22           \n",
       "5        Mataura      NZ     50.00 -46.19  168.86           \n",
       "6     Hammerfest      NO     37.40  70.66   23.68           \n",
       "10  Port Lincoln      AU     59.67 -34.73  135.87           \n",
       "12      Linjiang      CN     45.00  41.81  126.91           \n",
       "13   Fort Nelson      CA     42.80  58.81 -122.70           \n",
       "14       Kurkino      RU     38.08  53.43   38.66           \n",
       "15        Albany      US     50.00  42.60  -73.97           \n",
       "18    Nikolskoye      RU     37.40  59.70   30.79           "
      ]
     },
     "execution_count": 14,
     "metadata": {},
     "output_type": "execute_result"
    }
   ],
   "source": [
    "# Create DataFrame called hotel_df to store hotel names along with city, country, max temp, and coordinates.\n",
    "hotel_df = preferred_cities_df[[\"City\", \"Country\", \"Max Temp\", \"Lat\", \"Lng\"]].copy()\n",
    "hotel_df[\"Hotel Name\"] = \"\"\n",
    "hotel_df.head(10)"
   ]
  },
  {
   "cell_type": "code",
   "execution_count": 15,
   "metadata": {},
   "outputs": [],
   "source": [
    "# Set parameters to search for a hotel.\n",
    "params = {\n",
    "    \"radius\": 5000,\n",
    "    \"type\": \"lodging\",\n",
    "    \"key\": g_key\n",
    "}"
   ]
  },
  {
   "cell_type": "code",
   "execution_count": 16,
   "metadata": {},
   "outputs": [
    {
     "name": "stdout",
     "output_type": "stream",
     "text": [
      "Hotel not found... skipping.\n",
      "Hotel not found... skipping.\n",
      "Hotel not found... skipping.\n",
      "Hotel not found... skipping.\n",
      "Hotel not found... skipping.\n",
      "Hotel not found... skipping.\n",
      "Hotel not found... skipping.\n",
      "Hotel not found... skipping.\n",
      "Hotel not found... skipping.\n",
      "Hotel not found... skipping.\n",
      "Hotel not found... skipping.\n",
      "Hotel not found... skipping.\n",
      "Hotel not found... skipping.\n",
      "Hotel not found... skipping.\n",
      "Hotel not found... skipping.\n",
      "Hotel not found... skipping.\n",
      "Hotel not found... skipping.\n",
      "Hotel not found... skipping.\n",
      "Hotel not found... skipping.\n",
      "Hotel not found... skipping.\n",
      "Hotel not found... skipping.\n",
      "Hotel not found... skipping.\n"
     ]
    }
   ],
   "source": [
    "# Iterate through the DataFrame.\n",
    "for index, row in hotel_df.iterrows():\n",
    "    # Get the latitude and longitude.\n",
    "    lat = row[\"Lat\"]\n",
    "    lng = row[\"Lng\"]\n",
    "\n",
    "    # Add the latitude and longitude to location key for the params dictionary.\n",
    "    params[\"location\"] = f\"{lat},{lng}\"\n",
    "\n",
    "    # Use the search term: \"lodging\" and our latitude and longitude.\n",
    "    base_url = \"https://maps.googleapis.com/maps/api/place/nearbysearch/json\"\n",
    "    # Make request and get the JSON data from the search.\n",
    "    hotels = requests.get(base_url, params=params).json()\n",
    "    # Grab the first hotel from the results and store the name.\n",
    "    try:\n",
    "        hotel_df.loc[index, \"Hotel Name\"] = hotels[\"results\"][0][\"name\"]\n",
    "    except (IndexError):\n",
    "        print(\"Hotel not found... skipping.\")\n",
    "    except:\n",
    "        print(\"Unexpected error:\", sys.exc_info()[0])\n",
    "        print(\"Unexpected error[1]:\", sys.exc_info()[1])"
   ]
  },
  {
   "cell_type": "code",
   "execution_count": 17,
   "metadata": {},
   "outputs": [
    {
     "data": {
      "text/html": [
       "<div>\n",
       "<style scoped>\n",
       "    .dataframe tbody tr th:only-of-type {\n",
       "        vertical-align: middle;\n",
       "    }\n",
       "\n",
       "    .dataframe tbody tr th {\n",
       "        vertical-align: top;\n",
       "    }\n",
       "\n",
       "    .dataframe thead th {\n",
       "        text-align: right;\n",
       "    }\n",
       "</style>\n",
       "<table border=\"1\" class=\"dataframe\">\n",
       "  <thead>\n",
       "    <tr style=\"text-align: right;\">\n",
       "      <th></th>\n",
       "      <th>City</th>\n",
       "      <th>Country</th>\n",
       "      <th>Max Temp</th>\n",
       "      <th>Lat</th>\n",
       "      <th>Lng</th>\n",
       "      <th>Hotel Name</th>\n",
       "    </tr>\n",
       "  </thead>\n",
       "  <tbody>\n",
       "    <tr>\n",
       "      <th>1</th>\n",
       "      <td>Thompson</td>\n",
       "      <td>CA</td>\n",
       "      <td>41.00</td>\n",
       "      <td>55.74</td>\n",
       "      <td>-97.86</td>\n",
       "      <td>Burntwood Hotel</td>\n",
       "    </tr>\n",
       "    <tr>\n",
       "      <th>3</th>\n",
       "      <td>Golden</td>\n",
       "      <td>US</td>\n",
       "      <td>46.00</td>\n",
       "      <td>39.76</td>\n",
       "      <td>-105.22</td>\n",
       "      <td>Hampton Inn Denver-West/Golden</td>\n",
       "    </tr>\n",
       "    <tr>\n",
       "      <th>5</th>\n",
       "      <td>Mataura</td>\n",
       "      <td>NZ</td>\n",
       "      <td>50.00</td>\n",
       "      <td>-46.19</td>\n",
       "      <td>168.86</td>\n",
       "      <td>Ellie's Villa</td>\n",
       "    </tr>\n",
       "    <tr>\n",
       "      <th>6</th>\n",
       "      <td>Hammerfest</td>\n",
       "      <td>NO</td>\n",
       "      <td>37.40</td>\n",
       "      <td>70.66</td>\n",
       "      <td>23.68</td>\n",
       "      <td>Skytterhuset</td>\n",
       "    </tr>\n",
       "    <tr>\n",
       "      <th>10</th>\n",
       "      <td>Port Lincoln</td>\n",
       "      <td>AU</td>\n",
       "      <td>59.67</td>\n",
       "      <td>-34.73</td>\n",
       "      <td>135.87</td>\n",
       "      <td>Port Lincoln Hotel</td>\n",
       "    </tr>\n",
       "    <tr>\n",
       "      <th>12</th>\n",
       "      <td>Linjiang</td>\n",
       "      <td>CN</td>\n",
       "      <td>45.00</td>\n",
       "      <td>41.81</td>\n",
       "      <td>126.91</td>\n",
       "      <td>Mingmen Business Hotel</td>\n",
       "    </tr>\n",
       "    <tr>\n",
       "      <th>13</th>\n",
       "      <td>Fort Nelson</td>\n",
       "      <td>CA</td>\n",
       "      <td>42.80</td>\n",
       "      <td>58.81</td>\n",
       "      <td>-122.70</td>\n",
       "      <td>The Fort Nelson Hotel</td>\n",
       "    </tr>\n",
       "    <tr>\n",
       "      <th>14</th>\n",
       "      <td>Kurkino</td>\n",
       "      <td>RU</td>\n",
       "      <td>38.08</td>\n",
       "      <td>53.43</td>\n",
       "      <td>38.66</td>\n",
       "      <td></td>\n",
       "    </tr>\n",
       "    <tr>\n",
       "      <th>15</th>\n",
       "      <td>Albany</td>\n",
       "      <td>US</td>\n",
       "      <td>50.00</td>\n",
       "      <td>42.60</td>\n",
       "      <td>-73.97</td>\n",
       "      <td></td>\n",
       "    </tr>\n",
       "    <tr>\n",
       "      <th>18</th>\n",
       "      <td>Nikolskoye</td>\n",
       "      <td>RU</td>\n",
       "      <td>37.40</td>\n",
       "      <td>59.70</td>\n",
       "      <td>30.79</td>\n",
       "      <td>Tourist House - Sablino</td>\n",
       "    </tr>\n",
       "  </tbody>\n",
       "</table>\n",
       "</div>"
      ],
      "text/plain": [
       "            City Country  Max Temp    Lat     Lng  \\\n",
       "1       Thompson      CA     41.00  55.74  -97.86   \n",
       "3         Golden      US     46.00  39.76 -105.22   \n",
       "5        Mataura      NZ     50.00 -46.19  168.86   \n",
       "6     Hammerfest      NO     37.40  70.66   23.68   \n",
       "10  Port Lincoln      AU     59.67 -34.73  135.87   \n",
       "12      Linjiang      CN     45.00  41.81  126.91   \n",
       "13   Fort Nelson      CA     42.80  58.81 -122.70   \n",
       "14       Kurkino      RU     38.08  53.43   38.66   \n",
       "15        Albany      US     50.00  42.60  -73.97   \n",
       "18    Nikolskoye      RU     37.40  59.70   30.79   \n",
       "\n",
       "                        Hotel Name  \n",
       "1                  Burntwood Hotel  \n",
       "3   Hampton Inn Denver-West/Golden  \n",
       "5                    Ellie's Villa  \n",
       "6                     Skytterhuset  \n",
       "10              Port Lincoln Hotel  \n",
       "12          Mingmen Business Hotel  \n",
       "13           The Fort Nelson Hotel  \n",
       "14                                  \n",
       "15                                  \n",
       "18         Tourist House - Sablino  "
      ]
     },
     "execution_count": 17,
     "metadata": {},
     "output_type": "execute_result"
    }
   ],
   "source": [
    "hotel_df.head(10)"
   ]
  },
  {
   "cell_type": "code",
   "execution_count": 18,
   "metadata": {},
   "outputs": [
    {
     "data": {
      "application/vnd.jupyter.widget-view+json": {
       "model_id": "f1d0f205c62d4df789857c45eadb9537",
       "version_major": 2,
       "version_minor": 0
      },
      "text/plain": [
       "Figure(layout=FigureLayout(height='420px'))"
      ]
     },
     "metadata": {},
     "output_type": "display_data"
    }
   ],
   "source": [
    "# Add a heatmap of temperature for the vacation spots.\n",
    "locations = hotel_df[[\"Lat\", \"Lng\"]]\n",
    "max_temp = hotel_df[\"Max Temp\"]\n",
    "fig = gmaps.figure(center=(30.0, 31.0), zoom_level=1.5)\n",
    "heat_layer = gmaps.heatmap_layer(locations, weights=max_temp, dissipating=False,\n",
    "             max_intensity=300, point_radius=4)\n",
    "\n",
    "fig.add_layer(heat_layer)\n",
    "# Call the figure to plot the data.\n",
    "fig"
   ]
  },
  {
   "cell_type": "code",
   "execution_count": 19,
   "metadata": {},
   "outputs": [
    {
     "data": {
      "application/vnd.jupyter.widget-view+json": {
       "model_id": "8985d444289544008516958fb661f491",
       "version_major": 2,
       "version_minor": 0
      },
      "text/plain": [
       "Figure(layout=FigureLayout(height='420px'))"
      ]
     },
     "metadata": {},
     "output_type": "display_data"
    }
   ],
   "source": [
    "# Add a heatmap of temperature for the vacation spots and marker for each city.\n",
    "locations = hotel_df[[\"Lat\", \"Lng\"]]\n",
    "max_temp = hotel_df[\"Max Temp\"]\n",
    "fig = gmaps.figure(center=(30.0, 31.0), zoom_level=1.5)\n",
    "heat_layer = gmaps.heatmap_layer(locations, weights=max_temp,dissipating=False, max_intensity=300, point_radius=4)\n",
    "marker_layer = gmaps.marker_layer(locations)\n",
    "fig.add_layer(heat_layer)\n",
    "fig.add_layer(marker_layer)\n",
    "# Call the figure to plot the data.\n",
    "fig"
   ]
  },
  {
   "cell_type": "code",
   "execution_count": 20,
   "metadata": {},
   "outputs": [],
   "source": [
    "info_box_template = \"\"\"\n",
    "<dl>\n",
    "<dt>Hotel Name</dt><dd>{Hotel Name}</dd>\n",
    "<dt>City</dt><dd>{City}</dd>\n",
    "<dt>Country</dt><dd>{Country}</dd>\n",
    "<dt>Max Temp</dt><dd>{Max Temp} °F</dd>\n",
    "</dl>\n",
    "\"\"\"\n",
    "# Store the DataFrame Row.\n",
    "hotel_info = [info_box_template.format(**row) for index, row in hotel_df.iterrows()]"
   ]
  },
  {
   "cell_type": "code",
   "execution_count": 21,
   "metadata": {},
   "outputs": [
    {
     "data": {
      "application/vnd.jupyter.widget-view+json": {
       "model_id": "91215ef164df494dad08a8c98a8c3c1e",
       "version_major": 2,
       "version_minor": 0
      },
      "text/plain": [
       "Figure(layout=FigureLayout(height='420px'))"
      ]
     },
     "metadata": {},
     "output_type": "display_data"
    }
   ],
   "source": [
    "# Add a heatmap of temperature for the vacation spots and a pop-up marker for each city.\n",
    "locations = hotel_df[[\"Lat\", \"Lng\"]]\n",
    "max_temp = hotel_df[\"Max Temp\"]\n",
    "fig = gmaps.figure(center=(30.0, 31.0), zoom_level=1.5)\n",
    "heat_layer = gmaps.heatmap_layer(locations, weights=max_temp,dissipating=False,\n",
    "             max_intensity=300, point_radius=4)\n",
    "marker_layer = gmaps.marker_layer(locations, info_box_content=hotel_info)\n",
    "fig.add_layer(heat_layer)\n",
    "fig.add_layer(marker_layer)\n",
    "\n",
    "# Call the figure to plot the data.\n",
    "fig"
   ]
  },
  {
   "cell_type": "code",
   "execution_count": null,
   "metadata": {},
   "outputs": [],
   "source": []
  }
 ],
 "metadata": {
  "kernelspec": {
   "display_name": "Python 3.7.7 64-bit ('PythonData': conda)",
   "language": "python",
   "name": "python37764bitpythondataconda1497166868d24ba68de260e0cf754157"
  },
  "language_info": {
   "codemirror_mode": {
    "name": "ipython",
    "version": 3
   },
   "file_extension": ".py",
   "mimetype": "text/x-python",
   "name": "python",
   "nbconvert_exporter": "python",
   "pygments_lexer": "ipython3",
   "version": "3.7.7"
  }
 },
 "nbformat": 4,
 "nbformat_minor": 4
}
